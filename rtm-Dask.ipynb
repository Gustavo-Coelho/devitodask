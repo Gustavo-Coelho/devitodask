{
 "cells": [
  {
   "cell_type": "code",
   "execution_count": 1,
   "metadata": {},
   "outputs": [
    {
     "data": {
      "text/html": [
       "<table style=\"border: 2px solid white;\">\n",
       "<tr>\n",
       "<td style=\"vertical-align: top; border: 0px solid white\">\n",
       "<h3 style=\"text-align: left;\">Client</h3>\n",
       "<ul style=\"text-align: left; list-style: none; margin: 0; padding: 0;\">\n",
       "  <li><b>Scheduler: </b>tcp://127.0.0.1:44785</li>\n",
       "  <li><b>Dashboard: </b><a href='http://127.0.0.1:8787/status' target='_blank'>http://127.0.0.1:8787/status</a>\n",
       "</ul>\n",
       "</td>\n",
       "<td style=\"vertical-align: top; border: 0px solid white\">\n",
       "<h3 style=\"text-align: left;\">Cluster</h3>\n",
       "<ul style=\"text-align: left; list-style:none; margin: 0; padding: 0;\">\n",
       "  <li><b>Workers: </b>4</li>\n",
       "  <li><b>Cores: </b>4</li>\n",
       "  <li><b>Memory: </b>8.05 GB</li>\n",
       "</ul>\n",
       "</td>\n",
       "</tr>\n",
       "</table>"
      ],
      "text/plain": [
       "<Client: 'tcp://127.0.0.1:44785' processes=4 threads=4, memory=8.05 GB>"
      ]
     },
     "execution_count": 1,
     "metadata": {},
     "output_type": "execute_result"
    }
   ],
   "source": [
    "from distributed import Client, LocalCluster, wait\n",
    "import os\n",
    "\n",
    "# Start Dask cluster\n",
    "cluster = LocalCluster(n_workers=4, threads_per_worker = 1, death_timeout=1000)\n",
    "client = Client(cluster)\n",
    "client\n",
    "\n",
    "#client = Client('10.0.0.7:8786')\n",
    "#cluster\n"
   ]
  },
  {
   "cell_type": "code",
   "execution_count": null,
   "metadata": {},
   "outputs": [],
   "source": [
    "all_current_workers = [w.pid for w in cluster.scheduler.workers.values()]\n",
    "all_current_workers\n"
   ]
  },
  {
   "cell_type": "code",
   "execution_count": null,
   "metadata": {},
   "outputs": [],
   "source": [
    "all_current_workers = [w.pid for w in cluster.scheduler.workers.values()]\n",
    "non_preemptible_workers = []"
   ]
  },
  {
   "cell_type": "code",
   "execution_count": null,
   "metadata": {},
   "outputs": [],
   "source": [
    "import random\n",
    "non_preemptible_workers = []\n",
    "def kill_a_worker():\n",
    "    preemptible_workers = [\n",
    "        w.pid for w in cluster.scheduler.workers.values()\n",
    "        if w.pid not in non_preemptible_workers]\n",
    "    if preemptible_workers:\n",
    "        os.kill(random.choice(preemptible_workers), 15)"
   ]
  },
  {
   "cell_type": "code",
   "execution_count": null,
   "metadata": {},
   "outputs": [],
   "source": []
  },
  {
   "cell_type": "code",
   "execution_count": null,
   "metadata": {},
   "outputs": [],
   "source": [
    "import numpy as np\n",
    "%matplotlib inline\n",
    "\n",
    "from devito import configuration\n",
    "configuration['log-level'] = 'WARNING'\n"
   ]
  },
  {
   "cell_type": "code",
   "execution_count": null,
   "metadata": {},
   "outputs": [],
   "source": [
    "# Configure model presets\n",
    "from examples.seismic import demo_model\n",
    "\n",
    "# Enable model presets here:\n",
    "preset = 'layers-isotropic'  # A simple but cheap model (recommended)\n",
    "# preset = 'marmousi2d-isotropic'  # A larger more realistic model\n",
    "\n",
    "# Standard preset with a simple two-layer model\n",
    "if preset == 'layers-isotropic':\n",
    "    def create_model(grid=None):\n",
    "        return demo_model('layers-isotropic', origin=(0., 0.), shape=(101, 101),\n",
    "                          spacing=(10., 10.), nbl=20, grid=grid, nlayers=2)\n",
    "    filter_sigma = (1, 1)\n",
    "    nshots = 21\n",
    "    nreceivers = 101\n",
    "    t0 = 0.\n",
    "    tn = 1000.  # Simulation last 1 second (1000 ms)\n",
    "    f0 = 0.010  # Source peak frequency is 10Hz (0.010 kHz)\n",
    "\n",
    "\n",
    "# A more computationally demanding preset based on the 2D Marmousi model\n",
    "if preset == 'marmousi2d-isotropic':\n",
    "    def create_model(grid=None):\n",
    "        return demo_model('marmousi2d-isotropic', data_path='../../../../data/',\n",
    "                          grid=grid, nbl=20)\n",
    "    filter_sigma = (6, 6)\n",
    "    nshots = 301  # Need good covergae in shots, one every two grid points\n",
    "    nreceivers = 601  # One recevier every grid point\n",
    "    t0 = 0.\n",
    "    tn = 3500.  # Simulation last 3.5 second (3500 ms)\n",
    "    f0 = 0.025  # Source peak frequency is 25Hz (0.025 kHz)"
   ]
  },
  {
   "cell_type": "code",
   "execution_count": null,
   "metadata": {},
   "outputs": [],
   "source": [
    "#NBVAL_IGNORE_OUTPUT\n",
    "from examples.seismic import plot_velocity, plot_perturbation\n",
    "from scipy import ndimage\n",
    "\n",
    "# Create true model from a preset\n",
    "model = create_model()\n",
    "\n",
    "# Create initial model and smooth the boundaries\n",
    "model0 = create_model(grid=model.grid)\n",
    "model0.vp = ndimage.gaussian_filter(model0.vp.data, sigma=filter_sigma, order=0)\n",
    "\n",
    "# Plot the true and initial model and the perturbation between them\n",
    "#plot_velocity(model)\n",
    "#plot_velocity(model0)\n",
    "#plot_perturbation(model0, model)"
   ]
  },
  {
   "cell_type": "code",
   "execution_count": null,
   "metadata": {},
   "outputs": [],
   "source": [
    "#NBVAL_IGNORE_OUTPUT\n",
    "# Define acquisition geometry: source\n",
    "from examples.seismic import AcquisitionGeometry\n",
    "\n",
    "# First, position source centrally in all dimensions, then set depth\n",
    "src_coordinates = np.empty((nshots, 2), dtype=np.float32)\n",
    "src_coordinates[:, 0] = np.linspace(0., 1000, num=nshots)\n",
    "src_coordinates[:, 1] = 30.\n",
    "\n",
    "\n",
    "# Define acquisition geometry: receivers\n",
    "\n",
    "# Initialize receivers for synthetic and imaging data\n",
    "rec_coordinates = np.empty((nreceivers, 2))\n",
    "rec_coordinates[:, 0] = np.linspace(0, model.domain_size[0], num=nreceivers)\n",
    "rec_coordinates[:, 1] = 30.\n",
    "\n",
    "# Geometry\n",
    "\n",
    "geometry = AcquisitionGeometry(model, rec_coordinates, src_coordinates, t0, tn, f0=.010, src_type='Ricker')\n",
    "# We can plot the time signature to see the wavelet\n",
    "#geometry.src.show()\n",
    "\n",
    "# Plot acquisition geometry\n",
    "#plot_velocity(model, source=geometry.src_positions,\n",
    "#              receiver=geometry.rec_positions[::4, :])\n"
   ]
  },
  {
   "cell_type": "code",
   "execution_count": null,
   "metadata": {},
   "outputs": [],
   "source": [
    "# Compute synthetic data with forward operator \n",
    "from examples.seismic.acoustic import AcousticWaveSolver\n",
    "\n",
    "solver = AcousticWaveSolver(model, geometry, space_order=4)\n",
    "true_d , _, _ = solver.forward(vp=model.vp)\n",
    "\n",
    "# Compute initial data with forward operator \n",
    "smooth_d, _, _ = solver.forward(vp=model0.vp)"
   ]
  },
  {
   "cell_type": "code",
   "execution_count": null,
   "metadata": {},
   "outputs": [],
   "source": [
    "# Define gradient operator for imaging\n",
    "from devito import TimeFunction, Operator, Eq, solve\n",
    "from examples.seismic import PointSource\n",
    "\n",
    "def ImagingOperator(model, image):\n",
    "    # Define the wavefield with the size of the model and the time dimension\n",
    "    v = TimeFunction(name='v', grid=model.grid, time_order=2, space_order=4)\n",
    "\n",
    "    u = TimeFunction(name='u', grid=model.grid, time_order=2, space_order=4,\n",
    "                     save=geometry.nt)\n",
    "    \n",
    "    # Define the wave equation, but with a negated damping term\n",
    "    eqn = model.m * v.dt2 - v.laplace + model.damp * v.dt.T\n",
    "\n",
    "    # Use `solve` to rearrange the equation into a stencil expression\n",
    "    stencil = Eq(v.backward, solve(eqn, v.backward))\n",
    "    \n",
    "    # Define residual injection at the location of the forward receivers\n",
    "    dt = model.critical_dt\n",
    "    residual = PointSource(name='residual', grid=model.grid,\n",
    "                           time_range=geometry.time_axis,\n",
    "                           coordinates=geometry.rec_positions)    \n",
    "    res_term = residual.inject(field=v.backward, expr=residual * dt**2 / model.m)\n",
    "\n",
    "    # Correlate u and v for the current time step and add it to the image\n",
    "    image_update = Eq(image, image - u * v)\n",
    "\n",
    "    return Operator([stencil] + res_term + [image_update],\n",
    "                    subs=model.spacing_map)"
   ]
  },
  {
   "cell_type": "code",
   "execution_count": null,
   "metadata": {},
   "outputs": [],
   "source": [
    "#NBVAL_IGNORE_OUTPUT\n",
    "\n",
    "# Prepare the varying source locations\n",
    "source_locations = np.empty((nshots, 2), dtype=np.float32)\n",
    "source_locations[:, 0] = np.linspace(0., 1000, num=nshots)\n",
    "source_locations[:, 1] = 30.\n",
    "\n",
    "#plot_velocity(model, source=source_locations)"
   ]
  },
  {
   "cell_type": "code",
   "execution_count": null,
   "metadata": {},
   "outputs": [],
   "source": [
    "#d_obs é o model.data\n",
    "from devito import Function\n",
    "from examples.seismic import Receiver\n",
    "def one_shot_rtm(geometry, model0):\n",
    "    \n",
    "    # Devito objects for gradient and data residual\n",
    "    grad = Function(name=\"grad\", grid=geometry.model.grid)\n",
    "    residual = Receiver(name='rec', grid=geometry.model.grid,\n",
    "                        time_range=geometry.time_axis, \n",
    "                        coordinates=geometry.rec_positions)\n",
    "    solver = AcousticWaveSolver(geometry.model, geometry, space_order=4)\n",
    "\n",
    "    # Predicted data and residual\n",
    "    true_d, u0 = solver.forward(vp=geometry.model.vp, save=True)[0:2]\n",
    "    smooth_d, _ =  solver.forward(vp=model0.vp, save=True)[0:2]\n",
    "\n",
    "    v = TimeFunction(name='v', grid=model.grid, time_order=2, space_order=4)\n",
    "    residual = smooth_d.data - true_d.data\n",
    "    \n",
    "    \n",
    "    return u0, v, residual\n"
   ]
  },
  {
   "cell_type": "code",
   "execution_count": null,
   "metadata": {},
   "outputs": [],
   "source": [
    "from devito import Function\n",
    "from examples.seismic import plot_image\n",
    "\n",
    "def multi_shots_rtm(geometry, model0):\n",
    "    image = Function(name='image', grid=model.grid)\n",
    "    op_imaging = ImagingOperator(model, image)\n",
    "    futures = []\n",
    "    inicio = time.time()\n",
    "\n",
    "\n",
    "    for i in range(geometry.nsrc):\n",
    "\n",
    "        # Geometry for current shot\n",
    "        geometry_i = AcquisitionGeometry(geometry.model, geometry.rec_positions, geometry.src_positions[i, :], \n",
    "            geometry.t0, geometry.tn, f0=geometry.f0, src_type=geometry.src_type)\n",
    "        \n",
    "        # Call serial FWI objective function for each shot location\n",
    "        futures.append(client.submit(one_shot_rtm, geometry_i, model0))\n",
    "\n",
    "    # Wait for all workers to finish and collect function values and gradients\n",
    "    wait(futures)\n",
    "    fim = time.time()\n",
    "    tempo = fim - inicio\n",
    "    print(\"Demorou - Dask: \",tempo) \n",
    "    for i in range(geometry.nsrc):\n",
    "       \n",
    "        op_imaging(u=futures[i].result()[0], v=futures[i].result()[1], vp=model0.vp, dt=model0.critical_dt, \n",
    "               residual=futures[i].result()[2])      \n",
    "\n",
    "    return image.data"
   ]
  },
  {
   "cell_type": "code",
   "execution_count": null,
   "metadata": {},
   "outputs": [],
   "source": [
    "import time\n",
    "import pickle\n",
    "import numpy as np\n",
    "from examples.seismic import plot_image\n",
    "\n",
    "# Compute FWI gradient for 5 shots\n",
    "inicio = time.time()\n",
    "imageData = multi_shots_rtm(geometry, model0)\n",
    "\n",
    "fim = time.time()\n",
    "tempo = fim - inicio\n",
    "print(\"Demorou - Total: \",tempo)\n"
   ]
  },
  {
   "cell_type": "code",
   "execution_count": null,
   "metadata": {},
   "outputs": [],
   "source": []
  },
  {
   "cell_type": "code",
   "execution_count": null,
   "metadata": {},
   "outputs": [],
   "source": [
    "#NBVAL_IGNORE_OUTPUT\n",
    "from examples.seismic import plot_image\n",
    "\n",
    "# Plot the inverted image\n",
    "plot_image(np.diff(imageData.data, axis=1))"
   ]
  },
  {
   "cell_type": "code",
   "execution_count": null,
   "metadata": {},
   "outputs": [],
   "source": [
    "client.restart()"
   ]
  },
  {
   "cell_type": "code",
   "execution_count": null,
   "metadata": {},
   "outputs": [],
   "source": []
  },
  {
   "cell_type": "code",
   "execution_count": null,
   "metadata": {},
   "outputs": [],
   "source": []
  },
  {
   "cell_type": "code",
   "execution_count": null,
   "metadata": {},
   "outputs": [],
   "source": [
    "imageData"
   ]
  },
  {
   "cell_type": "code",
   "execution_count": null,
   "metadata": {},
   "outputs": [],
   "source": [
    "imageData[0][2]=0\n",
    "c = imageData == img\n",
    "\n",
    "c.all()\n"
   ]
  },
  {
   "cell_type": "code",
   "execution_count": null,
   "metadata": {},
   "outputs": [],
   "source": []
  },
  {
   "cell_type": "code",
   "execution_count": null,
   "metadata": {},
   "outputs": [],
   "source": []
  },
  {
   "cell_type": "code",
   "execution_count": null,
   "metadata": {},
   "outputs": [],
   "source": []
  },
  {
   "cell_type": "code",
   "execution_count": null,
   "metadata": {},
   "outputs": [],
   "source": []
  },
  {
   "cell_type": "code",
   "execution_count": null,
   "metadata": {},
   "outputs": [],
   "source": []
  },
  {
   "cell_type": "code",
   "execution_count": null,
   "metadata": {},
   "outputs": [],
   "source": []
  },
  {
   "cell_type": "code",
   "execution_count": null,
   "metadata": {},
   "outputs": [],
   "source": [
    "img"
   ]
  },
  {
   "cell_type": "code",
   "execution_count": null,
   "metadata": {},
   "outputs": [],
   "source": []
  }
 ],
 "metadata": {
  "kernelspec": {
   "display_name": "Python 3",
   "language": "python",
   "name": "python3"
  },
  "language_info": {
   "codemirror_mode": {
    "name": "ipython",
    "version": 3
   },
   "file_extension": ".py",
   "mimetype": "text/x-python",
   "name": "python",
   "nbconvert_exporter": "python",
   "pygments_lexer": "ipython3",
   "version": "3.8.2"
  }
 },
 "nbformat": 4,
 "nbformat_minor": 4
}
